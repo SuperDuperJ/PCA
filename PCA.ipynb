{
 "cells": [
  {
   "cell_type": "code",
   "execution_count": 65,
   "id": "94e10ae2",
   "metadata": {},
   "outputs": [],
   "source": [
    "import numpy as np\n",
    "import pandas as pd\n",
    "import random\n",
    "from numpy.linalg import matrix_rank\n",
    "import scipy\n",
    "import scipy.stats\n",
    "import pandas as pd\n",
    "import sklearn\n",
    "from sklearn.linear_model import LogisticRegression\n",
    "from sklearn.model_selection import train_test_split\n",
    "from sklearn.metrics import f1_score\n",
    "from sklearn.decomposition import PCA as SKPCA"
   ]
  },
  {
   "cell_type": "code",
   "execution_count": 2,
   "id": "bede1071",
   "metadata": {},
   "outputs": [],
   "source": [
    "import matplotlib.pyplot as plt\n",
    "%matplotlib inline"
   ]
  },
  {
   "cell_type": "markdown",
   "id": "19aff5d1",
   "metadata": {},
   "source": [
    "### Introduction\n",
    "\n",
    "This notebook is the self-assigned final project for a Coursera course that I took entitled *Mathematics for Machine Learning: PCA* during the Spring 2023 term.  In an effort to digest the material learned in this course and expand upon it, I decided to write this work.\n",
    "\n",
    "With the exception of the first and last four code blocks, the work is entirely my own.  Most of the functions herein were assigned in the aforementioned course, except for the reconstructError, compEquiv1, and compEquiv2 functions.  These functions display my penchant for vectorization.\n",
    "\n",
    "The intention of this notebook and the course is to give intuition on PCA.  The PCA algorithm herein is by no means the most efficient or versatile PCA algorithm.  This is because it does not use the SVD to reduce the data to its most salient components and instead embeds the data in a lower-dimensional subspace.  For a robust PCA algorithm, consider the Sci-Kit Learn PCA algorithm found [here](https://scikit-learn.org/stable/modules/generated/sklearn.decomposition.PCA.html).\n",
    "\n",
    "This notebook assumes that the reader is comfortable with the material in a standard first course in Linear Algebra."
   ]
  },
  {
   "cell_type": "markdown",
   "id": "6cc718fb",
   "metadata": {},
   "source": [
    "#### Notation\n",
    "\n",
    "We start with a data set $\\mathcal{D} \\in \\mathbb{R}^{N \\times F}$.  That is, $\\mathcal{D}$ has $N$ rows and $F$ columns and all entries $\\mathcal{D}_{ij}$ are real numbers.  We think of each row as an individual observation vector whose components are observations from each of the $F$ features.\n",
    "\n",
    "Since it is customary to think of vectors as *column vectors*, we will most often work with the transpose of $\\mathcal{D}$ and give it the special name $X=\\mathcal{D}^T$."
   ]
  },
  {
   "cell_type": "markdown",
   "id": "b293c28a",
   "metadata": {},
   "source": [
    "### Symmetric Matrices\n",
    "\n",
    "A matrix $S\\in \\mathbb{R}^{n\\times n}$ is said to be *symmetric*, if $S=S^T$.  The following function produces a randomly generted symmetric matrix with dimensions $M\\times M$."
   ]
  },
  {
   "cell_type": "code",
   "execution_count": 93,
   "id": "42147419",
   "metadata": {},
   "outputs": [],
   "source": [
    "def randSym(M):\n",
    "    \"\"\"Generate a random symmetric M by M matrix \n",
    "        Args: \n",
    "            M: the dimensions of the matrix\n",
    "            \n",
    "        Returns: symmetric ndarray with shape (M,M)\"\"\"\n",
    "    A = np.random.randint(low=0, high=100, size=(M,M)) \n",
    "    return (A+A.T)/2"
   ]
  },
  {
   "cell_type": "markdown",
   "id": "dea865bf",
   "metadata": {},
   "source": [
    "##### Example"
   ]
  },
  {
   "cell_type": "code",
   "execution_count": 7,
   "id": "f9b6d5c9",
   "metadata": {},
   "outputs": [
    {
     "data": {
      "text/plain": [
       "array([[73. , 53. , 45. ,  9.5, 47.5],\n",
       "       [53. , 73. , 37. , 65.5, 53.5],\n",
       "       [45. , 37. , 10. , 27.5, 78. ],\n",
       "       [ 9.5, 65.5, 27.5, 86. , 55. ],\n",
       "       [47.5, 53.5, 78. , 55. , 38. ]])"
      ]
     },
     "execution_count": 7,
     "metadata": {},
     "output_type": "execute_result"
    }
   ],
   "source": [
    "randSym(5)"
   ]
  },
  {
   "cell_type": "markdown",
   "id": "c1f63d7f",
   "metadata": {},
   "source": [
    "$\\Box$"
   ]
  },
  {
   "cell_type": "markdown",
   "id": "e62d20fa",
   "metadata": {},
   "source": [
    "### Mean-Centered Data\n",
    "\n",
    "The theoretic results that are applied in this notebook assume that our datasets $\\mathcal{D}$ are *mean-centered*.  This means that the mean of each column of $\\mathcal{D}$ is $0$.  The following function accomplishes this task. "
   ]
  },
  {
   "cell_type": "code",
   "execution_count": 94,
   "id": "7aa5f98a",
   "metadata": {},
   "outputs": [],
   "source": [
    "def normalize(data):\n",
    "    \"\"\"Normalize the given dataset X to have zero mean.\n",
    "    Args:\n",
    "        data: ndarray, dataset of shape (N,D) where D is the dimension of the data,\n",
    "           and N is the number of datapoints\n",
    "    \n",
    "    Returns:\n",
    "        dataBar: tuple of ndarray, dataBar is the normalized dataset\n",
    "        with mean 0; mu is the sample mean of the dataset.\n",
    "    \"\"\"\n",
    "    mu = np.mean(data, axis=0)\n",
    "    dataBar = data-mu\n",
    "    return dataBar, mu"
   ]
  },
  {
   "cell_type": "markdown",
   "id": "b5a7d0e7",
   "metadata": {},
   "source": [
    "### Variance and Covariance\n",
    "\n",
    "Choose two columns of $\\mathcal{D}$ and label them $x$ and $y$.  The *Covariance* of $x$ and $y$ is the quantity $$\\text{cov}(x,y)=\\frac{1}{N}\\cdot \\sum(x_i-\\mu_x)(y_i-\\mu_y)$$  The *variance* of a single column, say $x$, is defined as $cov(x,x)$.  \n",
    "\n",
    "When the data set is mean centered, the formula above reduces to $\\text{cov}(x,y)=\\frac{1}{N}\\cdot \\sum x_i \\cdot y_i$."
   ]
  },
  {
   "cell_type": "markdown",
   "id": "7be00ea8",
   "metadata": {},
   "source": [
    "#### Covariance Matrix\n",
    "\n",
    "Given a data set $\\mathcal{D} \\in \\mathbb{R}^{N \\times F}$ with features $x_1,...,x_F$, the *Covariance Matrix* of $\\mathcal{D}$ is the matrix with entries $\\text{cov}(x_i,x_j)$.  We shall denote the covariance matrix of a data set $\\mathcal{D}$ as $S=\\text{cov}(\\mathcal{D})$.  Since $cov(x_i,x_j)=cov(x_j,x_i)$, it is seen that $\\text{cov}(\\mathcal{D})$ is a *symmetric* matrix whose ith diagonal entry gives the covariance of feature $x_i$."
   ]
  },
  {
   "cell_type": "markdown",
   "id": "2f037b12",
   "metadata": {},
   "source": [
    "Recalling that $X=\\mathcal{D}^T$, we see that $S=\\text{cov}(\\mathcal{D})=\\frac{1}{N}XX^T \\text{,}$ assuming that $\\mathcal{D}$ is mean centered."
   ]
  },
  {
   "cell_type": "code",
   "execution_count": 5,
   "id": "46af917f",
   "metadata": {},
   "outputs": [],
   "source": [
    "def cov(D):\n",
    "    \"\"\"Compute the sample covariance for a dataset.\n",
    "    Args:\n",
    "        D: ndarray of shape (N, D) representing the dataset.\n",
    "        N is the size of the dataset (the number of data points) \n",
    "        and D is the dimensionality of each data point.\n",
    "    Returns:\n",
    "        ndarray: ndarray with shape (D, D), the sample covariance of the dataset D.\n",
    "    \"\"\"\n",
    "    N=D.shape[0]\n",
    "    mu=np.mean(D, axis=0)\n",
    "    return ((D-mu).T@(D-mu))/N"
   ]
  },
  {
   "cell_type": "markdown",
   "id": "78e44064",
   "metadata": {},
   "source": [
    "##### Example"
   ]
  },
  {
   "cell_type": "code",
   "execution_count": 3,
   "id": "80ab2b52",
   "metadata": {},
   "outputs": [
    {
     "data": {
      "text/plain": [
       "array([[0, 1, 2],\n",
       "       [2, 1, 0]])"
      ]
     },
     "execution_count": 3,
     "metadata": {},
     "output_type": "execute_result"
    }
   ],
   "source": [
    "D=np.array([[0, 1, 2], [2, 1, 0]])\n",
    "D"
   ]
  },
  {
   "cell_type": "code",
   "execution_count": 4,
   "id": "3e4a1578",
   "metadata": {},
   "outputs": [
    {
     "data": {
      "text/plain": [
       "array([[ 1.,  0., -1.],\n",
       "       [ 0.,  0.,  0.],\n",
       "       [-1.,  0.,  1.]])"
      ]
     },
     "execution_count": 4,
     "metadata": {},
     "output_type": "execute_result"
    }
   ],
   "source": [
    "cov(D)"
   ]
  },
  {
   "cell_type": "markdown",
   "id": "bb54aa0d",
   "metadata": {},
   "source": [
    "$\\Box$"
   ]
  },
  {
   "cell_type": "markdown",
   "id": "5489236d",
   "metadata": {},
   "source": [
    "### Orthonormal Bases\n",
    "\n",
    "A basis $b_1,b_2,...,b_n$ for $\\mathbb{R}^n$ is said to be *orthonormal* if $b_i^Tb_j=0$ when $i\\neq j$ and $b_i^Tb_j=1$, when $i=j$.  This implies that $||b_i||_2=1$ for all $i$.\n",
    "\n",
    "A nice way to generate an orthonormal basis for $\\mathbb{R}^n$ is to use the *Spectral Theorem* and the function randSym defined above.\n",
    "\n",
    "##### Spectral Theorem\n",
    "If $S\\in \\mathbb{R}^{n \\times n}$ is symmetric ($S=S^T$), then there exists an orthonormal basis for $\\mathbb{R}^n$ consisting of eigenvectors of $S$ and all eigenvalues of $S$ are real numbers.\n",
    "\n",
    "Thus, it is likely (but not guarenteed) that the following function will produce an orthonormal basis for $\\mathbb{R}^n$ when the argument $A$ is a symmetric matrix."
   ]
  },
  {
   "cell_type": "code",
   "execution_count": 6,
   "id": "f9668167",
   "metadata": {},
   "outputs": [],
   "source": [
    "def eig(A):\n",
    "    \"\"\"Compute the eigenvalues and corresponding eigenvectors\n",
    "        for the matrix A.\n",
    "    Args:\n",
    "        A: ndarray of shape (n,n)\n",
    "\n",
    "    Returns:\n",
    "        (eigvals, eigvecs): ndarray, the eigenvalues and eigenvectors sorted in descending\n",
    "        order of the eigenvalues and each eigenvector has Euclidean Norm 1\n",
    "    \"\"\"\n",
    "    \n",
    "    eigvals, eigvecs = np.linalg.eig(A)\n",
    "    \n",
    "    args=np.flip(np.argsort(eigvals))\n",
    "    \n",
    "    return eigvals[args], eigvecs[:, args]"
   ]
  },
  {
   "cell_type": "markdown",
   "id": "152877a0",
   "metadata": {},
   "source": [
    "##### Example\n",
    "\n",
    "We begin with a symmetric matrix $S=S^T$."
   ]
  },
  {
   "cell_type": "code",
   "execution_count": 17,
   "id": "a1b99773",
   "metadata": {},
   "outputs": [
    {
     "data": {
      "text/plain": [
       "array([[ 1,  2,  3,  4,  5],\n",
       "       [ 2,  6,  7,  8,  9],\n",
       "       [ 3,  7, 10, 11, 12],\n",
       "       [ 4,  8, 11, 13, 14],\n",
       "       [ 5,  9, 12, 14, 15]])"
      ]
     },
     "execution_count": 17,
     "metadata": {},
     "output_type": "execute_result"
    }
   ],
   "source": [
    "S=np.array([[1,2,3,4,5],[2,6,7,8,9],[3,7,10,11,12],[4,8,11,13,14],[5,9,12,14,15]])\n",
    "S"
   ]
  },
  {
   "cell_type": "code",
   "execution_count": 18,
   "id": "0b4ff672",
   "metadata": {},
   "outputs": [],
   "source": [
    "eigvals, B = eig(S)"
   ]
  },
  {
   "cell_type": "code",
   "execution_count": 19,
   "id": "bf2c1cdb",
   "metadata": {},
   "outputs": [
    {
     "data": {
      "text/plain": [
       "array([[ 0.16657759, -0.51923398, -0.2622205 , -0.29272354,  0.74040618],\n",
       "       [ 0.34610435,  0.73629348, -0.5205591 ,  0.01176247,  0.25877317],\n",
       "       [ 0.4660024 ,  0.24779322,  0.75652334, -0.32514414,  0.20831227],\n",
       "       [ 0.53924491, -0.23445474,  0.07392338,  0.80337432,  0.05805977],\n",
       "       [ 0.58695859, -0.26813704, -0.28716962, -0.40378901, -0.58143804]])"
      ]
     },
     "execution_count": 19,
     "metadata": {},
     "output_type": "execute_result"
    }
   ],
   "source": [
    "B"
   ]
  },
  {
   "cell_type": "markdown",
   "id": "092d3cf0",
   "metadata": {},
   "source": [
    "Lets check that the eigenvectors of $S$ form an orthonormal basis for $\\mathbb{R}^5$.\n",
    "\n",
    "First, we check that the eigenvector matrix $B$ is full rank."
   ]
  },
  {
   "cell_type": "code",
   "execution_count": 20,
   "id": "1648e9e5",
   "metadata": {},
   "outputs": [
    {
     "data": {
      "text/plain": [
       "5"
      ]
     },
     "execution_count": 20,
     "metadata": {},
     "output_type": "execute_result"
    }
   ],
   "source": [
    "matrix_rank(B, hermitian=True)"
   ]
  },
  {
   "cell_type": "markdown",
   "id": "e6b36758",
   "metadata": {},
   "source": [
    "Next, we check that the columns of $B$ are orthonormal.  To do this, we use the fact that the columns of $B$ are orthonormal, if $B^TB=I$."
   ]
  },
  {
   "cell_type": "code",
   "execution_count": 21,
   "id": "44f7710d",
   "metadata": {},
   "outputs": [
    {
     "data": {
      "text/plain": [
       "True"
      ]
     },
     "execution_count": 21,
     "metadata": {},
     "output_type": "execute_result"
    }
   ],
   "source": [
    "np.allclose(B.T@B, np.eye(5),atol=1e-10)"
   ]
  },
  {
   "cell_type": "markdown",
   "id": "9d8088e0",
   "metadata": {},
   "source": [
    "$\\Box$"
   ]
  },
  {
   "cell_type": "markdown",
   "id": "41f3c849",
   "metadata": {},
   "source": [
    "### Orthogonal Projections\n",
    "\n",
    "Given a basis $b_1,...,b_F$ for $\\mathbb{R}^F$, we can project a vector $x\\in \\mathbb{R}^F$ onto the $m$-dimensional subspace $U$ of $\\mathbb{R}^F$ that is spanned by the first $m$ basis vectors $b_1,...,b_m$ (m<F).  That is, $U=$ span$\\{b_1,...,b_m\\}$.  \n",
    "\n",
    "We use $\\hat{x}$ to denote the projection of $x$ onto $U$ so that the vector from $U$ to $x$ is orthogonal to all vectors of $U$.  In other words, $(x-\\hat{x})^Tu=0$, for all $u\\in U$.  Using the *normal equations*, it can be shown that $\\hat{x}=B(B^TB)^{-1}B^Tx$, where $B=(b_1|...|b_m)$. The matrix $B(B^TB)^{-1}B^T$ is called a *projection* matrix. "
   ]
  },
  {
   "cell_type": "markdown",
   "id": "380aa789",
   "metadata": {},
   "source": [
    "#### Orthonormal Projections\n",
    "\n",
    "When the basis $b_1,...,b_F$ is *orthonormal*, $B^TB=I$ and the projection matrix simplifies to $BB^T$."
   ]
  },
  {
   "cell_type": "code",
   "execution_count": 7,
   "id": "d07faf2e",
   "metadata": {},
   "outputs": [],
   "source": [
    "def project(x, B, m):\n",
    "    \"\"\"Compute the projection onto the space spanned by the first m columns of B\n",
    "    Args:\n",
    "        x: ndarray of dimension (D, 1), the vector to be projected\n",
    "        B: ndarray of dimension (D, M), the basis for the subspace\n",
    "        m: the number of basis vectors in B to use\n",
    "    \n",
    "    Returns:\n",
    "        projection of x onto the subspace spanned by the columns of B; size (D, 1)\n",
    "    \"\"\"\n",
    "    B=B[:,:m]\n",
    "    P=B@np.linalg.inv((B.T)@B)@B.T\n",
    "\n",
    "    return P@x"
   ]
  },
  {
   "cell_type": "markdown",
   "id": "ff55c02e",
   "metadata": {},
   "source": [
    "#### Example\n",
    "\n",
    "The vectors $b_1=\\begin{pmatrix}\n",
    "    1 \\\\\n",
    "    1 \\\\\n",
    "    0 \\\\\n",
    "\\end{pmatrix}$, $b_2=\\begin{pmatrix}\n",
    "    1 \\\\\n",
    "    0 \\\\\n",
    "    1 \\\\\n",
    "\\end{pmatrix}$, and $b_3=\\begin{pmatrix}\n",
    "    0 \\\\\n",
    "    1 \\\\\n",
    "    1 \\\\\n",
    "\\end{pmatrix}$ form a basis for $\\mathbb{R}^3$.  We project the vector $x=\\begin{pmatrix}\n",
    "    1 \\\\\n",
    "    1 \\\\\n",
    "    1 \\\\\n",
    "\\end{pmatrix}$ onto the subspace spanned by $b_1$ and $b_2$. "
   ]
  },
  {
   "cell_type": "code",
   "execution_count": 25,
   "id": "a59f6b1f",
   "metadata": {},
   "outputs": [
    {
     "data": {
      "text/plain": [
       "array([[1, 1, 0],\n",
       "       [1, 0, 1],\n",
       "       [0, 1, 1]])"
      ]
     },
     "execution_count": 25,
     "metadata": {},
     "output_type": "execute_result"
    }
   ],
   "source": [
    "B=np.array([[1,1,0],[1,0,1],[0,1,1]])\n",
    "B"
   ]
  },
  {
   "cell_type": "code",
   "execution_count": 26,
   "id": "445d3243",
   "metadata": {},
   "outputs": [
    {
     "data": {
      "text/plain": [
       "array([[1, 1],\n",
       "       [1, 0],\n",
       "       [0, 1]])"
      ]
     },
     "execution_count": 26,
     "metadata": {},
     "output_type": "execute_result"
    }
   ],
   "source": [
    "B[:,:2]"
   ]
  },
  {
   "cell_type": "code",
   "execution_count": 27,
   "id": "d9cd52dd",
   "metadata": {},
   "outputs": [
    {
     "data": {
      "text/plain": [
       "array([[1],\n",
       "       [1],\n",
       "       [1]])"
      ]
     },
     "execution_count": 27,
     "metadata": {},
     "output_type": "execute_result"
    }
   ],
   "source": [
    "x=np.array([[1,1,1]]).T\n",
    "x"
   ]
  },
  {
   "cell_type": "code",
   "execution_count": 28,
   "id": "fe118004",
   "metadata": {},
   "outputs": [
    {
     "data": {
      "text/plain": [
       "array([[1.33333333],\n",
       "       [0.66666667],\n",
       "       [0.66666667]])"
      ]
     },
     "execution_count": 28,
     "metadata": {},
     "output_type": "execute_result"
    }
   ],
   "source": [
    "xHat=project(x,B,2)\n",
    "xHat"
   ]
  },
  {
   "cell_type": "markdown",
   "id": "b40f6c7a",
   "metadata": {},
   "source": [
    "Our work above shows that $\\hat{x}=\\begin{pmatrix}\n",
    "    4/3 \\\\\n",
    "    2/3 \\\\\n",
    "    2/3 \\\\\n",
    "\\end{pmatrix}=2/3\\begin{pmatrix}\n",
    "    1 \\\\\n",
    "    1 \\\\\n",
    "    0 \\\\\n",
    "\\end{pmatrix}+2/3\\begin{pmatrix}\n",
    "    1 \\\\\n",
    "    0 \\\\\n",
    "    1 \\\\\n",
    "\\end{pmatrix}=\\frac{2}{3}\\cdot b_1+\\frac{2}{3}\\cdot b_2$.  In other words, $\\hat{x}$ lives in the plane spanned by $b_1$ and $b_2$.\n",
    "\n",
    "$\\Box$"
   ]
  },
  {
   "cell_type": "markdown",
   "id": "340394b1",
   "metadata": {},
   "source": [
    "##### Example\n",
    "\n",
    "Above, we found the eigenvalues and eigenvectors for the symmetric matrix $S$."
   ]
  },
  {
   "cell_type": "code",
   "execution_count": 54,
   "id": "756cf56b",
   "metadata": {},
   "outputs": [
    {
     "data": {
      "text/plain": [
       "array([[ 1,  2,  3,  4,  5],\n",
       "       [ 2,  6,  7,  8,  9],\n",
       "       [ 3,  7, 10, 11, 12],\n",
       "       [ 4,  8, 11, 13, 14],\n",
       "       [ 5,  9, 12, 14, 15]])"
      ]
     },
     "execution_count": 54,
     "metadata": {},
     "output_type": "execute_result"
    }
   ],
   "source": [
    "S=np.array([[1,2,3,4,5],[2,6,7,8,9],[3,7,10,11,12],[4,8,11,13,14],[5,9,12,14,15]])\n",
    "S"
   ]
  },
  {
   "cell_type": "code",
   "execution_count": 56,
   "id": "ff422a0e",
   "metadata": {},
   "outputs": [
    {
     "data": {
      "text/plain": [
       "array([[ 0.16657759, -0.51923398, -0.2622205 , -0.29272354,  0.74040618],\n",
       "       [ 0.34610435,  0.73629348, -0.5205591 ,  0.01176247,  0.25877317],\n",
       "       [ 0.4660024 ,  0.24779322,  0.75652334, -0.32514414,  0.20831227],\n",
       "       [ 0.53924491, -0.23445474,  0.07392338,  0.80337432,  0.05805977],\n",
       "       [ 0.58695859, -0.26813704, -0.28716962, -0.40378901, -0.58143804]])"
      ]
     },
     "execution_count": 56,
     "metadata": {},
     "output_type": "execute_result"
    }
   ],
   "source": [
    "eigvals, B = eig(S)\n",
    "B"
   ]
  },
  {
   "cell_type": "markdown",
   "id": "7af2269f",
   "metadata": {},
   "source": [
    "We project the vector $x=\\begin{pmatrix}\n",
    "    1 \\\\\n",
    "    1 \\\\\n",
    "    1 \\\\\n",
    "    1\\\\\n",
    "    1\\\\\n",
    "\\end{pmatrix}$ onto the subspace spanned by the first three eigenvectors $b_1$, $b_2$, and $b_3$."
   ]
  },
  {
   "cell_type": "code",
   "execution_count": 16,
   "id": "1183a634",
   "metadata": {},
   "outputs": [],
   "source": [
    "B=B[: , :3]\n",
    "x=np.array([[1,1,1,1,1]]).T"
   ]
  },
  {
   "cell_type": "code",
   "execution_count": 17,
   "id": "0272deb0",
   "metadata": {},
   "outputs": [
    {
     "data": {
      "text/plain": [
       "array([[1],\n",
       "       [1],\n",
       "       [1],\n",
       "       [1],\n",
       "       [1]])"
      ]
     },
     "execution_count": 17,
     "metadata": {},
     "output_type": "execute_result"
    }
   ],
   "source": [
    "x"
   ]
  },
  {
   "cell_type": "code",
   "execution_count": 18,
   "id": "ae7d765e",
   "metadata": {},
   "outputs": [
    {
     "data": {
      "text/plain": [
       "array([[0.43302501],\n",
       "       [0.825399  ],\n",
       "       [0.79034206],\n",
       "       [1.12619331],\n",
       "       [1.31437907]])"
      ]
     },
     "execution_count": 18,
     "metadata": {},
     "output_type": "execute_result"
    }
   ],
   "source": [
    "xHat=project(x,B)\n",
    "xHat"
   ]
  },
  {
   "cell_type": "markdown",
   "id": "4a0fc1a7",
   "metadata": {},
   "source": [
    "$\\Box$"
   ]
  },
  {
   "cell_type": "markdown",
   "id": "5b3f0f2d",
   "metadata": {},
   "source": [
    "### Projection Error\n",
    "\n",
    "Given a mean-centered data set $\\mathcal{D}$ (with $N$ rows and $F$ columns) and an orthonormal basis $b_1,b_2,...,b_F$ for $\\mathbb{R}^F$, we can choose any $m<F$ of these basis vectors and form (with a possible relabelling of the subscripts) the matrix $B=(b_1|b_2|...|b_m)$.  Using the projection $BB^Tx$, we can then project each of the rows $x_i$ of $\\mathcal{D}$ onto the lower dimensional subspace (of $\\mathbb{R}^F$) spanned by the vectors $b_1, b_2, ... , b_m$.  We call this lower dimensional subspace the *principal subspace* and give it the special symbol $U$.  In symbols, $U=\\text{span}(b_1,b_2,...,b_m)$.\n",
    "\n",
    "##### How much information is lost when all $x_i$ are projected onto U?\n",
    "\n",
    "To answer this question, we measure the loss of information using the *average squared reconstruction error* $$J=\\frac{1}{N}\\cdot \\sum_{i=1}^N||x_i-\\hat{x_i}||^2 \\text{.}$$\n",
    "\n",
    "The following theorem gives us both a conceptual and a computational answer to this question. "
   ]
  },
  {
   "cell_type": "markdown",
   "id": "fc995bdc",
   "metadata": {},
   "source": [
    "##### Theorem\n",
    "$\\displaystyle{J=\\frac{1}{N}\\cdot \\sum_{i=1}^N||x_i-\\hat{x_i}||^2=\\sum_{j=m+1}^Fb_j^TSb_j=\\text{trace}(BB^TS)}$, where $S$ is the covariance matrix for $\\mathcal{D}$ and $B=(b_{m+1} |b_{m+2} |...|b_D)$."
   ]
  },
  {
   "cell_type": "markdown",
   "id": "965de9fc",
   "metadata": {},
   "source": [
    "We now set about to verify this result in many special cases.  A formal proof can be found [here](https://www.coursera.org/learn/pca-machine-learning/lecture/d8Nym/reformulation-of-the-objective).\n",
    "\n",
    "To this end, the following three functions implement each of the equal expressions in the above Theorem.\n",
    "\n",
    "The function reconstructError implements $\\displaystyle{\\frac{1}{N}\\cdot \\sum_{i=1}^N||x_i-\\hat{x_i}||^2}$."
   ]
  },
  {
   "cell_type": "code",
   "execution_count": 96,
   "id": "3f6797ec",
   "metadata": {},
   "outputs": [],
   "source": [
    "def reconstructError(data, B, m):\n",
    "    \"\"\"Compute the average squared reconstruction error that results from the orthogonal projection of each row of data \n",
    "        onto the subspace spanned by the columns of B.\n",
    "        Args: \n",
    "            data: matrix of shape (N,F) representing the MEAN CENTERED data\n",
    "            B: Matrix whose columns form an orthonormal basis for R^F\n",
    "            m: the number of basis vectors to use\n",
    "            \n",
    "        Returns: Average squared reconstruction error\"\"\"\n",
    "    \n",
    "    N=data.shape[0]\n",
    "    X=data.T\n",
    "    B=B[:,:m]\n",
    "    # Compute XHat \n",
    "    XHat=(B@B.T)@X\n",
    "    return (np.linalg.norm(X-XHat, axis=0)**2).sum()/N"
   ]
  },
  {
   "cell_type": "markdown",
   "id": "698a83f9",
   "metadata": {},
   "source": [
    "The function compEquiv1 implements $\\displaystyle{\\sum_{j=m+1}^Fb_j^TSb_j}$."
   ]
  },
  {
   "cell_type": "code",
   "execution_count": 97,
   "id": "6ecf4893",
   "metadata": {},
   "outputs": [],
   "source": [
    "def compEquiv1(data, B, m):\n",
    "    \"\"\"Compute the sum(bj^T*S*b_j) from j=m+1 to F\n",
    "        Args: \n",
    "            data: matrix of shape (N,D) representing the MEAN CENTERED data\n",
    "            B: Matrix whose columns form an orthonormal basis for R^D\n",
    "            m: the number of basis vectors to use\n",
    "            \n",
    "        Returns: sum(bj^T*S*b_j) from j=m+1 to F\"\"\"    \n",
    "    S=cov(data)\n",
    "    B=B[:,m:]\n",
    "    return np.trace(B.T@S@B)"
   ]
  },
  {
   "cell_type": "markdown",
   "id": "bf529f77",
   "metadata": {},
   "source": [
    "The function compEquiv2 implements $\\displaystyle{\\text{trace}(BB^TS)}$."
   ]
  },
  {
   "cell_type": "code",
   "execution_count": 98,
   "id": "873eba49",
   "metadata": {},
   "outputs": [],
   "source": [
    "def compEquiv2(data, B, m):\n",
    "    \"\"\"Compute trace(BB^TS), where B=B[:, m:]\n",
    "        Args: \n",
    "            data: matrix of shape (N,F) representing the MEAN CENTERED data\n",
    "            B: Matrix whose columns form an orthonormal basis for R^F\n",
    "            m: the number of basis vectors to use\n",
    "            \n",
    "        Returns: trace(BB^TS), where B=B[:, m:]\"\"\"    \n",
    "    S=cov(data)\n",
    "    B=B[:,m:]\n",
    "    return np.trace(B@B.T@S)"
   ]
  },
  {
   "cell_type": "markdown",
   "id": "cb12e106",
   "metadata": {},
   "source": [
    "##### Example\n",
    "\n",
    "The code below gives $100$ examples that verify the theorem above."
   ]
  },
  {
   "cell_type": "code",
   "execution_count": 99,
   "id": "cfbd3460",
   "metadata": {},
   "outputs": [],
   "source": [
    "numNotEquiv=0\n",
    "N=2000\n",
    "for i in range(100):\n",
    "    numFeatures=np.random.randint(low=10,high=101)\n",
    "    numIgnored=np.random.randint(low=5,high=numFeatures-4)\n",
    "    D,_=normalize(np.random.randn(N,numFeatures))\n",
    "    S=randSym(numFeatures)\n",
    "    eigvals, B = eig(S)\n",
    "    # Check that columns of B form orthonormal basis \n",
    "    if (np.allclose(B.T@B, np.eye(numFeatures),atol=1e-10)) and (matrix_rank(B, hermitian=True)==numFeatures):\n",
    "        if not(np.allclose(reconstructError(D,B,numFeatures-numIgnored), compEquiv1(D,B,numFeatures-numIgnored))) or not(np.allclose(reconstructError(D,B,numFeatures-numIgnored), compEquiv2(D,B,numFeatures-numIgnored))):\n",
    "            numNotEquiv+=1"
   ]
  },
  {
   "cell_type": "code",
   "execution_count": 100,
   "id": "96c0a0d5",
   "metadata": {},
   "outputs": [
    {
     "data": {
      "text/plain": [
       "0"
      ]
     },
     "execution_count": 100,
     "metadata": {},
     "output_type": "execute_result"
    }
   ],
   "source": [
    "numNotEquiv"
   ]
  },
  {
   "cell_type": "markdown",
   "id": "d72994f0",
   "metadata": {},
   "source": [
    "$\\Box$"
   ]
  },
  {
   "cell_type": "markdown",
   "id": "06201c39",
   "metadata": {},
   "source": [
    "Recall that our goal is to use our now established fact that \n",
    "\n",
    "$\\displaystyle{J=\\frac{1}{N}\\cdot \\sum_{i=1}^N||x_i-\\hat{x_i}||^2=\\sum_{j=m+1}^Fb_j^TSb_j=\\text{trace}(BB^TS)}$, where $S$ is the covariance matrix for $\\mathcal{D}$ and $B=(b_{m+1} |b_{m+2} |...|b_D)$\n",
    "\n",
    "to give both a conceptual and computational answer to the question:\n",
    "\n",
    "##### How much information is lost when all $x_i$ are projected onto U?\n",
    "\n",
    "First, the conceptual."
   ]
  },
  {
   "cell_type": "markdown",
   "id": "eb722e4d",
   "metadata": {},
   "source": [
    "Consider $\\displaystyle{J=\\frac{1}{N}\\cdot \\sum_{i=1}^N||x_i-\\hat{x_i}||^2=\\text{trace}(BB^TS)}$, where $S$ is the covariance matrix for $\\mathcal{D}$ and $B=(b_{m+1} |b_{m+2} |...|b_D)$.  \n",
    "\n",
    "The projection $BB^TS$ projects the information contained in the covariance matrix $S$ into the *orthogonal complement* $U^{\\perp}$ of $U=span(b_1,b_2,...,b_m)$, the principal subspace.  Since the trace of a matrix is the sum along the main diagonal, the amount of information lost when all $x_i$ are projected onto $U$ is the amount of variance in the data that is stored in $U^{\\perp}$.\n",
    "\n",
    "Thus, to minimize $J$ we should choose $b_1,b_2,...,b_m$ to be the eigenvectors of $S$ that make $U=span(b_1,b_2,...,b_m)$ contain the most variance in the data.  The computational answer to our question will show us how to do this. "
   ]
  },
  {
   "cell_type": "markdown",
   "id": "adcafe12",
   "metadata": {},
   "source": [
    "Now, the computational.\n",
    "\n",
    "Using the method of *Lagrange Multipliers*, we will now find an explicit formula for $\\displaystyle{J=\\frac{1}{N}\\cdot \\sum_{i=1}^N||x_i-\\hat{x_i}||^2}$ consisting of eigenvalues of $S$.  Instead of a fully general derivation, we give an example that the reader can generalize."
   ]
  },
  {
   "cell_type": "markdown",
   "id": "f4f03bab",
   "metadata": {},
   "source": [
    "##### Example\n",
    "\n",
    "Suppose that we have a data set $\\mathcal{D}\\in \\mathbb{R}^{N \\times 4}$.  Then, $S=cov(\\mathcal{D})$ is a $4 \\times 4$ symmetric matrix.  By the Spectral Theorem, we are guarenteed that an orthonormal basis $b_1,b_2,b_3,b_4$ for $\\mathbb{R}^4$ consisting of eigenvalues of $S$ exists.\n",
    "\n",
    "Further suppose that we have projected our data set onto $U=span(b_1,b_2)$.\n",
    "\n",
    "Then, $\\displaystyle{J=\\frac{1}{N}\\cdot \\sum_{i=1}^N||x_i-\\hat{x_i}||^2=\\sum_{j=3}^4b_j^TSb_j}=b_3^TSb_3+b_4^TSb_4$.  We seek to minimize $J$ under the constraints $b_3^Tb_3=1$ and $b_4^Tb_4=1$.\n",
    "\n",
    "The Lagrangian is $L=b_3^TSb_3+b_4^TSb_4+\\lambda_3(1-b_3^Tb_3)+\\lambda_4(1-b_4^Tb_4)$.\n",
    "\n",
    "For $i=3$ or $4$, $\\frac{\\partial L}{\\partial \\lambda_i}=1-b_i^Tb_i=0\\Leftrightarrow b_i^Tb_i=1$, recovering our constraints.\n",
    "\n",
    "For $i=3$ or $4$, $\\frac{\\partial L}{\\partial b_i}=\\frac{\\partial}{\\partial b_i}(b_i^TSb_i)+\\frac{\\partial}{\\partial b_i}(\\lambda_i(b_i^Tb_i-1))$.\n",
    "\n",
    "Theorem: If $x$ is $n\\times 1$, $A$ is $n \\times n$, and $A$ does not depend on $x$, then $\\frac{\\partial}{\\partial x}(x^TAX)=x^T(A+A^T)$.\n",
    "\n",
    "Using the above theorem and the fact that both $S=cov($data$)$ and the identity matrix are symmetric, we have \n",
    "\n",
    "$\\frac{\\partial}{\\partial b_i}(b_i^TSb_i)=b_i^T(S+S^T)=2b_i^TS$ and similarly, $\\frac{\\partial}{\\partial b_i}(\\lambda_i(b_i^Tb_i-1))=2\\lambda_ib_i^T$. \n",
    "\n",
    "Thus, for $i=3$ or $4$, $\\frac{\\partial L}{\\partial b_i}=2b_i^TS-2\\lambda_ib_i^T=0 \\Leftrightarrow 2b_i^TS=2\\lambda_ib_i^T$.\n",
    "\n",
    "Multiplying this last equality first on the left and then on the right by $b_i$ and dividing by $2$ we obtain $Sb_i=\\lambda_ib_i$.  \n",
    "\n",
    "Thus, $J=b_3^TSb_3+b_4^TSb_4=b_3^T\\lambda_3b_3+b_4^T\\lambda_4b_4=\\lambda_3b_3^Tb_3+\\lambda_4b_4^Tb_4=\\lambda_3+\\lambda_4$.\n",
    "\n",
    "So, the amount of information lost in the projection of our data set onto $U$ is $\\lambda_3+\\lambda_4$, where $\\lambda_3$ and $\\lambda_4$ are eigenvalues of the covariance matrix of our data set.  $\\Box$"
   ]
  },
  {
   "cell_type": "markdown",
   "id": "2b0e8d3f",
   "metadata": {},
   "source": [
    "Generalizing the above example gives the following theorem.\n",
    "\n",
    "##### Theorem\n",
    "$\\displaystyle{J=\\frac{1}{N}\\cdot \\sum_{i=1}^N||x_i-\\hat{x_i}||^2=\\lambda_{m+1}+\\lambda_{m+2}+...+\\lambda_F}$, where $\\lambda_{m+1},\\lambda_{m+2},...,\\lambda_F$ are the eigenvalues that correspond with the eigenvectors $b_{m+1},b_{m+2},...,b_F$, respectively, of the covariance matrix $S$ of the data set."
   ]
  },
  {
   "cell_type": "markdown",
   "id": "b41609f9",
   "metadata": {},
   "source": [
    "### Principal Component Analysis\n",
    "\n",
    "Using the above theorem, we see that the way to project a data set $\\mathcal{D}\\in \\mathbb{R}^{N \\times F}$ onto a lower dimensional subspace of $\\mathbb{R}^F$ and still preserve as much information (variance) in the data is to choose the eigenvectors $b_1,b_2,...,b_m$ of the covariance matrix $S=cov(\\mathcal{D})$ that correspond to the $m$ largest eigenvalues of $S$.\n",
    "\n",
    "Then, according to the theorem above, $\\displaystyle{J=\\lambda_{m+1}+\\lambda_{m+2}+...+\\lambda_F}$ will attain its minimum value, since $\\lambda_{m+1},\\lambda_{m+2},...,\\lambda_F$ are as small as possible."
   ]
  },
  {
   "cell_type": "code",
   "execution_count": 101,
   "id": "fc265316",
   "metadata": {},
   "outputs": [],
   "source": [
    "def projection_matrix(B):\n",
    "    \"\"\"Compute the projection matrix onto the space spanned by `B`\n",
    "    Args:\n",
    "        B: ndarray of dimension (F, M), the basis for the subspace\n",
    "    \n",
    "    Returns:\n",
    "        P: the projection matrix\n",
    "    \"\"\"\n",
    "\n",
    "    P=B@np.linalg.inv(B.T@B)@B.T\n",
    "    return P"
   ]
  },
  {
   "cell_type": "code",
   "execution_count": 102,
   "id": "56a0cf8c",
   "metadata": {},
   "outputs": [],
   "source": [
    "def PCA(data, m):\n",
    "    \"\"\"\n",
    "    Args:\n",
    "        data: ndarray of size (N, F), where F is the dimension of the data,\n",
    "           and N is the number of datapoints\n",
    "        m: the number of principal components to use.\n",
    "    Returns:\n",
    "        the reconstructed data, the sample mean of the X, principal values\n",
    "        and principal components\n",
    "    \"\"\"\n",
    "    \n",
    "    N=data.shape[0]\n",
    "    # Normalize the data \n",
    "    data_bar, mu = normalize(data)\n",
    "    X=data_bar.T\n",
    "    # Compute covariance matrix S \n",
    "    S=X@X.T/N\n",
    "    # Get principal vectors \n",
    "    eigVals, eigVecs = eig(S)\n",
    "    prinVals=eigVals[:m]\n",
    "    prinVecs=np.real(eigVecs[:, :m])\n",
    "    # Project the data \n",
    "    P=projection_matrix(prinVecs)\n",
    "    data_bar_prime=(P@X).T\n",
    "    # Recover the original data\n",
    "    data=data_bar_prime+mu\n",
    "\n",
    "    return data, mu, prinVals, prinVecs"
   ]
  },
  {
   "cell_type": "markdown",
   "id": "b20f2986",
   "metadata": {},
   "source": [
    "##### Example\n",
    "We now compare our PCA algorithm to Sci-Kit Learn's PCA algorithm."
   ]
  },
  {
   "cell_type": "code",
   "execution_count": 87,
   "id": "6ed487d0",
   "metadata": {},
   "outputs": [
    {
     "name": "stdout",
     "output_type": "stream",
     "text": [
      "difference in reconstruction for num_components = 1: 4.572492438673757e-27\n",
      "difference in reconstruction for num_components = 2: 1.700401380024597e-26\n",
      "difference in reconstruction for num_components = 3: 5.297477818951538e-27\n",
      "difference in reconstruction for num_components = 4: 5.2247668496471876e-27\n",
      "difference in reconstruction for num_components = 5: 1.753880391981476e-25\n",
      "difference in reconstruction for num_components = 6: 4.726459391407963e-27\n",
      "difference in reconstruction for num_components = 7: 3.514599643412818e-27\n",
      "difference in reconstruction for num_components = 8: 1.3238083846412833e-25\n"
     ]
    }
   ],
   "source": [
    "random = np.random.RandomState(0)\n",
    "data = random.randn(100, 10)\n",
    "\n",
    "from sklearn.decomposition import PCA as SKPCA\n",
    "\n",
    "for num_component in range(1, 9):\n",
    "    pca = SKPCA(n_components=num_component, svd_solver=\"full\")\n",
    "    sklearn_reconst = pca.inverse_transform(pca.fit_transform(data))\n",
    "    reconst,_,_,_ = PCA(data, num_component)\n",
    "    print(\n",
    "        \"difference in reconstruction for num_components = {}: {}\".format(\n",
    "            num_component, np.square(reconst - sklearn_reconst).sum()\n",
    "        )\n",
    "    )\n",
    "    np.allclose(reconst, sklearn_reconst)"
   ]
  },
  {
   "cell_type": "markdown",
   "id": "a4820ffa",
   "metadata": {},
   "source": [
    "$\\Box$"
   ]
  },
  {
   "cell_type": "markdown",
   "id": "c1b84060",
   "metadata": {},
   "source": [
    "##### Example\n",
    "We give a visualization of PCA."
   ]
  },
  {
   "cell_type": "code",
   "execution_count": 48,
   "id": "3f5b1e48",
   "metadata": {},
   "outputs": [
    {
     "data": {
      "image/png": "[encoded data removed]",
      "text/plain": [
       "<Figure size 432x432 with 1 Axes>"
      ]
     },
     "metadata": {
      "needs_background": "light"
     },
     "output_type": "display_data"
    }
   ],
   "source": [
    "mvn = scipy.stats.multivariate_normal(\n",
    "    mean=np.array([1, 1]), \n",
    "    cov=np.array([[1, -0.8], [-0.8, 1]])\n",
    ")\n",
    "\n",
    "# data contains 200 points generated according to the above criteria\n",
    "data = mvn.rvs((200,), random_state=np.random.RandomState(0))\n",
    "\n",
    "num_components = 1\n",
    "data_reconst, mean, principal_values, principal_components = PCA(data, num_components)\n",
    "\n",
    "fig, ax = plt.subplots(figsize=(6, 6))\n",
    "ax.scatter(data[:, 0], data[:, 1], label='data')\n",
    "plt.axis('equal')\n",
    "plt.legend()\n",
    "ax.set(xlabel='$\\mathbf{x}_0$', ylabel='$\\mathbf{x}_1$')\n",
    "plt.show()"
   ]
  },
  {
   "cell_type": "code",
   "execution_count": 17,
   "id": "2323673e",
   "metadata": {},
   "outputs": [],
   "source": [
    "def draw_vector(v0, v1, ax=None, label=None):\n",
    "    \"\"\"Draw a vector from v0 to v1.\"\"\"\n",
    "    ax = ax or plt.gca()\n",
    "    arrowprops=dict(arrowstyle='->',\n",
    "                    linewidth=2,\n",
    "                    shrinkA=0, shrinkB=0, \n",
    "                    color='k')\n",
    "    ax.annotate('', v1, v0, arrowprops=arrowprops, label=label)"
   ]
  },
  {
   "cell_type": "code",
   "execution_count": 18,
   "id": "b8cacda7",
   "metadata": {},
   "outputs": [
    {
     "data": {
      "image/png": "[encoded data removed]",
      "text/plain": [
       "<Figure size 432x432 with 1 Axes>"
      ]
     },
     "metadata": {
      "needs_background": "light"
     },
     "output_type": "display_data"
    }
   ],
   "source": [
    "fig, ax = plt.subplots(figsize=(6, 6))\n",
    "ax.scatter(data[:, 0], data[:, 1], label='data')\n",
    "for (princial_variance, principal_component) in (zip(principal_values, principal_components.T)):\n",
    "    draw_vector(\n",
    "        mean, mean + np.sqrt(princial_variance) * principal_component, \n",
    "        ax=ax)\n",
    "ax.scatter(data_reconst[:, 0], data_reconst[:, 1], label='reconstructed')\n",
    "plt.axis('equal')\n",
    "plt.legend()\n",
    "ax.set(xlabel='$\\mathbf{x}_0$', ylabel='$\\mathbf{x}_1$')\n",
    "plt.show()"
   ]
  },
  {
   "cell_type": "markdown",
   "id": "8091c9d8",
   "metadata": {},
   "source": [
    "$\\Box$"
   ]
  },
  {
   "cell_type": "markdown",
   "id": "d62242ef",
   "metadata": {},
   "source": [
    "### Limitations\n",
    "\n",
    "The PCA algorithm given herein is excellent for building intuition about PCA.  However, it is much less practical when compared to other implementations that use the Singular Value Decomposition (SVD).  \n",
    "\n",
    "This is because the implementation given in this notebook does not reduce the size of the data set.  The data is projected onto a lower dimensional subspace, but still has $F$ features.  Implementations using the SVD actually reduce the size of the data set lending the reduced data set to quicker application of Machine Learning algorithms and ease in data visualization."
   ]
  },
  {
   "cell_type": "code",
   "execution_count": null,
   "id": "40e1a8c3",
   "metadata": {},
   "outputs": [],
   "source": []
  }
 ],
 "metadata": {
  "kernelspec": {
   "display_name": "Python 3 (ipykernel)",
   "language": "python",
   "name": "python3"
  },
  "language_info": {
   "codemirror_mode": {
    "name": "ipython",
    "version": 3
   },
   "file_extension": ".py",
   "mimetype": "text/x-python",
   "name": "python",
   "nbconvert_exporter": "python",
   "pygments_lexer": "ipython3",
   "version": "3.9.12"
  }
 },
 "nbformat": 4,
 "nbformat_minor": 5
}
